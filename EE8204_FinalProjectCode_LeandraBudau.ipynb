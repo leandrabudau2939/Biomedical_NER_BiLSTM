{
  "nbformat": 4,
  "nbformat_minor": 0,
  "metadata": {
    "colab": {
      "provenance": []
    },
    "kernelspec": {
      "name": "python3",
      "display_name": "Python 3"
    },
    "language_info": {
      "name": "python"
    }
  },
  "cells": [
    {
      "cell_type": "markdown",
      "source": [
        "# **Installs and Imports**"
      ],
      "metadata": {
        "id": "NW8C8Wrt1l2d"
      }
    },
    {
      "cell_type": "markdown",
      "source": [
        "This cell includes all of the necessary pip installs when using google colab (this may not be needed if running on your personal device)"
      ],
      "metadata": {
        "id": "LYNwHx0lfglM"
      }
    },
    {
      "cell_type": "code",
      "source": [
        "!pip install tensorflow\n",
        "!pip install keras"
      ],
      "metadata": {
        "id": "BWSKYUR0AacZ"
      },
      "execution_count": null,
      "outputs": []
    },
    {
      "cell_type": "markdown",
      "source": [
        "This cell includes all necessary imports to run this project"
      ],
      "metadata": {
        "id": "aWYKfxVLfs3W"
      }
    },
    {
      "cell_type": "code",
      "execution_count": null,
      "metadata": {
        "id": "tzItai6n0nQy"
      },
      "outputs": [],
      "source": [
        "import pandas as pd\n",
        "import numpy as np\n",
        "import tensorflow as tf\n",
        "import matplotlib.pyplot as plt\n",
        "from tensorflow.keras import Model, Input\n",
        "from tensorflow.keras.layers import LSTM, Embedding, Dense\n",
        "from tensorflow.keras.layers import InputLayer, TimeDistributed, SpatialDropout1D, Bidirectional\n",
        "from tensorflow import keras\n",
        "from tensorflow.keras.preprocessing.sequence import pad_sequences\n",
        "from tensorflow.keras.preprocessing.text import Tokenizer\n",
        "from tensorflow.keras.utils import to_categorical\n",
        "from tensorflow.keras.models import Model\n",
        "from tensorflow.keras.layers import Input, LSTM, Embedding, Dense, TimeDistributed, Dropout, Bidirectional\n",
        "from sklearn.metrics import classification_report"
      ]
    },
    {
      "cell_type": "markdown",
      "source": [
        "This cell is to connect to google drive when running on google colab (my dataset was uploaded to my google drive)\n",
        "- Skip this cell if you do not need to connect to the drive"
      ],
      "metadata": {
        "id": "238QBmyPfy0P"
      }
    },
    {
      "cell_type": "code",
      "source": [
        "from google.colab import drive\n",
        "drive.mount('/content/drive')"
      ],
      "metadata": {
        "colab": {
          "base_uri": "https://localhost:8080/"
        },
        "id": "ICJ0ggbe1X6p",
        "outputId": "b5797321-17de-4341-beed-45c7ddb6535e"
      },
      "execution_count": null,
      "outputs": [
        {
          "output_type": "stream",
          "name": "stdout",
          "text": [
            "Mounted at /content/drive\n"
          ]
        }
      ]
    },
    {
      "cell_type": "markdown",
      "source": [
        "# **Dataset Prep**"
      ],
      "metadata": {
        "id": "RnSxUU_D1qLY"
      }
    },
    {
      "cell_type": "markdown",
      "source": [
        "**Load Dataset**\n",
        "- uses pandas to read the training data from the csv file\n",
        "- you will need to change the root to the file for whereever you have stored the train.csv file\n",
        "- changes column names to 'token' and 'tag'\n",
        "- prints off first ten datapoints"
      ],
      "metadata": {
        "id": "-Rpplw051i-6"
      }
    },
    {
      "cell_type": "code",
      "source": [
        "jnlpba_data = pd.read_csv(\"/content/drive/MyDrive/EE8204/train.csv\", names=['Token', 'Tag'])\n",
        "jnlpba_data.head(10)"
      ],
      "metadata": {
        "colab": {
          "base_uri": "https://localhost:8080/",
          "height": 362
        },
        "id": "ZMw9n2Zc3WmT",
        "outputId": "92dda30d-8ddb-4c79-ade2-990ff1927526"
      },
      "execution_count": null,
      "outputs": [
        {
          "output_type": "execute_result",
          "data": {
            "text/plain": [
              "        Token        Tag\n",
              "0  -DOCSTART-          O\n",
              "1         NaN      B-DNA\n",
              "2        gene      I-DNA\n",
              "3  expression          O\n",
              "4         and          O\n",
              "5    NF-kappa  B-protein\n",
              "6           B  I-protein\n",
              "7  activation          O\n",
              "8     through          O\n",
              "9        CD28  B-protein"
            ],
            "text/html": [
              "\n",
              "  <div id=\"df-8fc131ae-0329-4863-8ebe-5d706b4929b6\" class=\"colab-df-container\">\n",
              "    <div>\n",
              "<style scoped>\n",
              "    .dataframe tbody tr th:only-of-type {\n",
              "        vertical-align: middle;\n",
              "    }\n",
              "\n",
              "    .dataframe tbody tr th {\n",
              "        vertical-align: top;\n",
              "    }\n",
              "\n",
              "    .dataframe thead th {\n",
              "        text-align: right;\n",
              "    }\n",
              "</style>\n",
              "<table border=\"1\" class=\"dataframe\">\n",
              "  <thead>\n",
              "    <tr style=\"text-align: right;\">\n",
              "      <th></th>\n",
              "      <th>Token</th>\n",
              "      <th>Tag</th>\n",
              "    </tr>\n",
              "  </thead>\n",
              "  <tbody>\n",
              "    <tr>\n",
              "      <th>0</th>\n",
              "      <td>-DOCSTART-</td>\n",
              "      <td>O</td>\n",
              "    </tr>\n",
              "    <tr>\n",
              "      <th>1</th>\n",
              "      <td>NaN</td>\n",
              "      <td>B-DNA</td>\n",
              "    </tr>\n",
              "    <tr>\n",
              "      <th>2</th>\n",
              "      <td>gene</td>\n",
              "      <td>I-DNA</td>\n",
              "    </tr>\n",
              "    <tr>\n",
              "      <th>3</th>\n",
              "      <td>expression</td>\n",
              "      <td>O</td>\n",
              "    </tr>\n",
              "    <tr>\n",
              "      <th>4</th>\n",
              "      <td>and</td>\n",
              "      <td>O</td>\n",
              "    </tr>\n",
              "    <tr>\n",
              "      <th>5</th>\n",
              "      <td>NF-kappa</td>\n",
              "      <td>B-protein</td>\n",
              "    </tr>\n",
              "    <tr>\n",
              "      <th>6</th>\n",
              "      <td>B</td>\n",
              "      <td>I-protein</td>\n",
              "    </tr>\n",
              "    <tr>\n",
              "      <th>7</th>\n",
              "      <td>activation</td>\n",
              "      <td>O</td>\n",
              "    </tr>\n",
              "    <tr>\n",
              "      <th>8</th>\n",
              "      <td>through</td>\n",
              "      <td>O</td>\n",
              "    </tr>\n",
              "    <tr>\n",
              "      <th>9</th>\n",
              "      <td>CD28</td>\n",
              "      <td>B-protein</td>\n",
              "    </tr>\n",
              "  </tbody>\n",
              "</table>\n",
              "</div>\n",
              "    <div class=\"colab-df-buttons\">\n",
              "\n",
              "  <div class=\"colab-df-container\">\n",
              "    <button class=\"colab-df-convert\" onclick=\"convertToInteractive('df-8fc131ae-0329-4863-8ebe-5d706b4929b6')\"\n",
              "            title=\"Convert this dataframe to an interactive table.\"\n",
              "            style=\"display:none;\">\n",
              "\n",
              "  <svg xmlns=\"http://www.w3.org/2000/svg\" height=\"24px\" viewBox=\"0 -960 960 960\">\n",
              "    <path d=\"M120-120v-720h720v720H120Zm60-500h600v-160H180v160Zm220 220h160v-160H400v160Zm0 220h160v-160H400v160ZM180-400h160v-160H180v160Zm440 0h160v-160H620v160ZM180-180h160v-160H180v160Zm440 0h160v-160H620v160Z\"/>\n",
              "  </svg>\n",
              "    </button>\n",
              "\n",
              "  <style>\n",
              "    .colab-df-container {\n",
              "      display:flex;\n",
              "      gap: 12px;\n",
              "    }\n",
              "\n",
              "    .colab-df-convert {\n",
              "      background-color: #E8F0FE;\n",
              "      border: none;\n",
              "      border-radius: 50%;\n",
              "      cursor: pointer;\n",
              "      display: none;\n",
              "      fill: #1967D2;\n",
              "      height: 32px;\n",
              "      padding: 0 0 0 0;\n",
              "      width: 32px;\n",
              "    }\n",
              "\n",
              "    .colab-df-convert:hover {\n",
              "      background-color: #E2EBFA;\n",
              "      box-shadow: 0px 1px 2px rgba(60, 64, 67, 0.3), 0px 1px 3px 1px rgba(60, 64, 67, 0.15);\n",
              "      fill: #174EA6;\n",
              "    }\n",
              "\n",
              "    .colab-df-buttons div {\n",
              "      margin-bottom: 4px;\n",
              "    }\n",
              "\n",
              "    [theme=dark] .colab-df-convert {\n",
              "      background-color: #3B4455;\n",
              "      fill: #D2E3FC;\n",
              "    }\n",
              "\n",
              "    [theme=dark] .colab-df-convert:hover {\n",
              "      background-color: #434B5C;\n",
              "      box-shadow: 0px 1px 3px 1px rgba(0, 0, 0, 0.15);\n",
              "      filter: drop-shadow(0px 1px 2px rgba(0, 0, 0, 0.3));\n",
              "      fill: #FFFFFF;\n",
              "    }\n",
              "  </style>\n",
              "\n",
              "    <script>\n",
              "      const buttonEl =\n",
              "        document.querySelector('#df-8fc131ae-0329-4863-8ebe-5d706b4929b6 button.colab-df-convert');\n",
              "      buttonEl.style.display =\n",
              "        google.colab.kernel.accessAllowed ? 'block' : 'none';\n",
              "\n",
              "      async function convertToInteractive(key) {\n",
              "        const element = document.querySelector('#df-8fc131ae-0329-4863-8ebe-5d706b4929b6');\n",
              "        const dataTable =\n",
              "          await google.colab.kernel.invokeFunction('convertToInteractive',\n",
              "                                                    [key], {});\n",
              "        if (!dataTable) return;\n",
              "\n",
              "        const docLinkHtml = 'Like what you see? Visit the ' +\n",
              "          '<a target=\"_blank\" href=https://colab.research.google.com/notebooks/data_table.ipynb>data table notebook</a>'\n",
              "          + ' to learn more about interactive tables.';\n",
              "        element.innerHTML = '';\n",
              "        dataTable['output_type'] = 'display_data';\n",
              "        await google.colab.output.renderOutput(dataTable, element);\n",
              "        const docLink = document.createElement('div');\n",
              "        docLink.innerHTML = docLinkHtml;\n",
              "        element.appendChild(docLink);\n",
              "      }\n",
              "    </script>\n",
              "  </div>\n",
              "\n",
              "\n",
              "<div id=\"df-0a552840-3a50-49b9-aa68-eb1007c7b8d4\">\n",
              "  <button class=\"colab-df-quickchart\" onclick=\"quickchart('df-0a552840-3a50-49b9-aa68-eb1007c7b8d4')\"\n",
              "            title=\"Suggest charts\"\n",
              "            style=\"display:none;\">\n",
              "\n",
              "<svg xmlns=\"http://www.w3.org/2000/svg\" height=\"24px\"viewBox=\"0 0 24 24\"\n",
              "     width=\"24px\">\n",
              "    <g>\n",
              "        <path d=\"M19 3H5c-1.1 0-2 .9-2 2v14c0 1.1.9 2 2 2h14c1.1 0 2-.9 2-2V5c0-1.1-.9-2-2-2zM9 17H7v-7h2v7zm4 0h-2V7h2v10zm4 0h-2v-4h2v4z\"/>\n",
              "    </g>\n",
              "</svg>\n",
              "  </button>\n",
              "\n",
              "<style>\n",
              "  .colab-df-quickchart {\n",
              "      --bg-color: #E8F0FE;\n",
              "      --fill-color: #1967D2;\n",
              "      --hover-bg-color: #E2EBFA;\n",
              "      --hover-fill-color: #174EA6;\n",
              "      --disabled-fill-color: #AAA;\n",
              "      --disabled-bg-color: #DDD;\n",
              "  }\n",
              "\n",
              "  [theme=dark] .colab-df-quickchart {\n",
              "      --bg-color: #3B4455;\n",
              "      --fill-color: #D2E3FC;\n",
              "      --hover-bg-color: #434B5C;\n",
              "      --hover-fill-color: #FFFFFF;\n",
              "      --disabled-bg-color: #3B4455;\n",
              "      --disabled-fill-color: #666;\n",
              "  }\n",
              "\n",
              "  .colab-df-quickchart {\n",
              "    background-color: var(--bg-color);\n",
              "    border: none;\n",
              "    border-radius: 50%;\n",
              "    cursor: pointer;\n",
              "    display: none;\n",
              "    fill: var(--fill-color);\n",
              "    height: 32px;\n",
              "    padding: 0;\n",
              "    width: 32px;\n",
              "  }\n",
              "\n",
              "  .colab-df-quickchart:hover {\n",
              "    background-color: var(--hover-bg-color);\n",
              "    box-shadow: 0 1px 2px rgba(60, 64, 67, 0.3), 0 1px 3px 1px rgba(60, 64, 67, 0.15);\n",
              "    fill: var(--button-hover-fill-color);\n",
              "  }\n",
              "\n",
              "  .colab-df-quickchart-complete:disabled,\n",
              "  .colab-df-quickchart-complete:disabled:hover {\n",
              "    background-color: var(--disabled-bg-color);\n",
              "    fill: var(--disabled-fill-color);\n",
              "    box-shadow: none;\n",
              "  }\n",
              "\n",
              "  .colab-df-spinner {\n",
              "    border: 2px solid var(--fill-color);\n",
              "    border-color: transparent;\n",
              "    border-bottom-color: var(--fill-color);\n",
              "    animation:\n",
              "      spin 1s steps(1) infinite;\n",
              "  }\n",
              "\n",
              "  @keyframes spin {\n",
              "    0% {\n",
              "      border-color: transparent;\n",
              "      border-bottom-color: var(--fill-color);\n",
              "      border-left-color: var(--fill-color);\n",
              "    }\n",
              "    20% {\n",
              "      border-color: transparent;\n",
              "      border-left-color: var(--fill-color);\n",
              "      border-top-color: var(--fill-color);\n",
              "    }\n",
              "    30% {\n",
              "      border-color: transparent;\n",
              "      border-left-color: var(--fill-color);\n",
              "      border-top-color: var(--fill-color);\n",
              "      border-right-color: var(--fill-color);\n",
              "    }\n",
              "    40% {\n",
              "      border-color: transparent;\n",
              "      border-right-color: var(--fill-color);\n",
              "      border-top-color: var(--fill-color);\n",
              "    }\n",
              "    60% {\n",
              "      border-color: transparent;\n",
              "      border-right-color: var(--fill-color);\n",
              "    }\n",
              "    80% {\n",
              "      border-color: transparent;\n",
              "      border-right-color: var(--fill-color);\n",
              "      border-bottom-color: var(--fill-color);\n",
              "    }\n",
              "    90% {\n",
              "      border-color: transparent;\n",
              "      border-bottom-color: var(--fill-color);\n",
              "    }\n",
              "  }\n",
              "</style>\n",
              "\n",
              "  <script>\n",
              "    async function quickchart(key) {\n",
              "      const quickchartButtonEl =\n",
              "        document.querySelector('#' + key + ' button');\n",
              "      quickchartButtonEl.disabled = true;  // To prevent multiple clicks.\n",
              "      quickchartButtonEl.classList.add('colab-df-spinner');\n",
              "      try {\n",
              "        const charts = await google.colab.kernel.invokeFunction(\n",
              "            'suggestCharts', [key], {});\n",
              "      } catch (error) {\n",
              "        console.error('Error during call to suggestCharts:', error);\n",
              "      }\n",
              "      quickchartButtonEl.classList.remove('colab-df-spinner');\n",
              "      quickchartButtonEl.classList.add('colab-df-quickchart-complete');\n",
              "    }\n",
              "    (() => {\n",
              "      let quickchartButtonEl =\n",
              "        document.querySelector('#df-0a552840-3a50-49b9-aa68-eb1007c7b8d4 button');\n",
              "      quickchartButtonEl.style.display =\n",
              "        google.colab.kernel.accessAllowed ? 'block' : 'none';\n",
              "    })();\n",
              "  </script>\n",
              "</div>\n",
              "\n",
              "    </div>\n",
              "  </div>\n"
            ],
            "application/vnd.google.colaboratory.intrinsic+json": {
              "type": "dataframe",
              "variable_name": "jnlpba_data"
            }
          },
          "metadata": {},
          "execution_count": 4
        }
      ]
    },
    {
      "cell_type": "markdown",
      "source": [
        "**Getting dataset value counts**\n",
        "- gets the total # of words (rows in 'token' colum) and total # of categories (unique rows in the 'tags'column) for later use\n"
      ],
      "metadata": {
        "id": "g72XzI_S1Vgp"
      }
    },
    {
      "cell_type": "code",
      "source": [
        "words = list(set(jnlpba_data[\"Token\"].values))\n",
        "tags = list(set(jnlpba_data[\"Tag\"].values))\n",
        "num_words = len(words)\n",
        "num_tags = jnlpba_data['Tag'].nunique()\n",
        "print(\"Unique words in corpus:\", jnlpba_data['Tag'].nunique())\n",
        "print(\"Unique words in dataset:\", len(words))"
      ],
      "metadata": {
        "colab": {
          "base_uri": "https://localhost:8080/"
        },
        "id": "xboWJ3Zh4iz6",
        "outputId": "5372049e-ca03-430e-c614-8dcb07e49f1e"
      },
      "execution_count": null,
      "outputs": [
        {
          "output_type": "stream",
          "name": "stdout",
          "text": [
            "Unique words in corpus: 11\n",
            "Unique words in dataset: 19224\n"
          ]
        }
      ]
    },
    {
      "cell_type": "markdown",
      "source": [
        "**Seperate sentences**\n",
        "- The dataset seperates sentences using a NaN token\n",
        "- This cell adds a new column with the # of the sentence, and then assigns them based on where the NaN tokens have split up the tokens\n",
        "- Then stores the tags and tokens into 2d arrays for later use in training"
      ],
      "metadata": {
        "id": "nSGyVH_F1Z8d"
      }
    },
    {
      "cell_type": "code",
      "source": [
        "# Fill NaN values with a placeholder\n",
        "jnlpba_data['Token'] = jnlpba_data['Token'].fillna('Sentence_End')\n",
        "\n",
        "# Create a new column for sentence IDs\n",
        "jnlpba_data['Sentence_ID'] = (jnlpba_data['Token'] == 'Sentence_End').cumsum()\n",
        "\n",
        "# Filter out the placeholder rows to clean your dataset\n",
        "jnlpba_data = jnlpba_data[jnlpba_data['Token'] != 'Sentence_End']"
      ],
      "metadata": {
        "id": "xFspAWj-0byJ"
      },
      "execution_count": null,
      "outputs": []
    },
    {
      "cell_type": "code",
      "source": [
        "sentences = []\n",
        "tag_sequences = []\n",
        "\n",
        "for sentence_id in jnlpba_data['Sentence_ID'].unique():\n",
        "    subset = jnlpba_data[jnlpba_data['Sentence_ID'] == sentence_id]\n",
        "    words = list(subset['Token'])\n",
        "    tags = list(subset['Tag'])\n",
        "    sentences.append(words)\n",
        "    tag_sequences.append(tags)\n",
        "\n",
        "print(\"First two sentences:\", sentences[0])"
      ],
      "metadata": {
        "colab": {
          "base_uri": "https://localhost:8080/"
        },
        "id": "4fZySg63mXwo",
        "outputId": "8587f7b3-b201-429d-e909-d1cb91e4c83a"
      },
      "execution_count": null,
      "outputs": [
        {
          "output_type": "stream",
          "name": "stderr",
          "text": [
            "IOPub data rate exceeded.\n",
            "The notebook server will temporarily stop sending output\n",
            "to the client in order to avoid crashing it.\n",
            "To change this limit, set the config variable\n",
            "`--NotebookApp.iopub_data_rate_limit`.\n",
            "\n",
            "Current values:\n",
            "NotebookApp.iopub_data_rate_limit=1000000.0 (bytes/sec)\n",
            "NotebookApp.rate_limit_window=3.0 (secs)\n",
            "\n"
          ]
        }
      ]
    },
    {
      "cell_type": "markdown",
      "source": [
        "**Padding and Tokenization**\n",
        "- Tokenizing all of the inputs using Tensorflows built in tokenizer\n",
        "- Padding inputs to the max length of 50"
      ],
      "metadata": {
        "id": "N9S4U1wKkZjM"
      }
    },
    {
      "cell_type": "code",
      "source": [
        "max_len = 50\n",
        "\n",
        "# Tokenization\n",
        "word_tokenizer = Tokenizer(num_words=num_words, oov_token=\"UNK\")\n",
        "word_tokenizer.fit_on_texts(sentences)\n",
        "X = word_tokenizer.texts_to_sequences(sentences)\n",
        "X = pad_sequences(X, maxlen=max_len, padding='post')\n",
        "\n",
        "tag_tokenizer = Tokenizer()\n",
        "tag_tokenizer.fit_on_texts(tag_sequences)\n",
        "Y = tag_tokenizer.texts_to_sequences(tag_sequences)\n",
        "Y = pad_sequences(Y, maxlen=max_len, padding='post')\n",
        "\n",
        "# Padding\n",
        "X = pad_sequences(X, maxlen=max_len, padding='post', truncating='post')\n",
        "\n",
        "# Convert tag indices to categorical labels\n",
        "Y = [to_categorical(i, num_classes=num_tags + 1) for i in Y]  # +1 for padding token class\n",
        "\n",
        "print(\"X shape:\", X.shape)\n",
        "print(\"Y shape:\", np.array(Y).shape)\n"
      ],
      "metadata": {
        "colab": {
          "base_uri": "https://localhost:8080/"
        },
        "id": "r6OBQQx4F2au",
        "outputId": "29690df2-3b30-4e39-a3b3-e81b0686c76b"
      },
      "execution_count": null,
      "outputs": [
        {
          "output_type": "stream",
          "name": "stdout",
          "text": [
            "X shape: (16812, 50)\n",
            "Y shape: (16812, 50, 12)\n"
          ]
        }
      ]
    },
    {
      "cell_type": "markdown",
      "source": [
        "# **Model**"
      ],
      "metadata": {
        "id": "929YiR4kB0p9"
      }
    },
    {
      "cell_type": "markdown",
      "source": [
        "**Model Building**\n",
        "- Simple input layer\n",
        "- Embedding layer with input dimension of 19226, output dimension of 50\n",
        "- Dropout layer to avoid overfitting\n",
        "- Bidirectional LSTM layer with 100 units\n",
        "- Output layer with softmax for classification"
      ],
      "metadata": {
        "id": "6mIHh4GAZ61e"
      }
    },
    {
      "cell_type": "code",
      "source": [
        "import tensorflow as tf\n",
        "from tensorflow.keras.models import Model\n",
        "from tensorflow.keras.layers import Input, LSTM, Embedding, Dense, TimeDistributed, Dropout, Bidirectional\n",
        "from tensorflow.keras.utils import plot_model\n",
        "\n",
        "# Define the model architecture\n",
        "input_word = Input(shape=(max_len,))\n",
        "model = Embedding(input_dim=num_words + 1, output_dim=50, input_length=max_len)(input_word)\n",
        "model = Dropout(0.1)(model)\n",
        "model = Bidirectional(LSTM(units=100, return_sequences=True, recurrent_dropout=0.1))(model)\n",
        "out = TimeDistributed(Dense(num_tags + 1, activation=\"softmax\"))(model)\n",
        "\n",
        "model = Model(inputs=input_word, outputs=out)\n",
        "model.compile(optimizer=\"adam\", loss=\"categorical_crossentropy\", metrics=[\"accuracy\"])\n",
        "\n",
        "# Generate and save the plot of the model architecture\n",
        "plot_model(model, to_file='model_plot.png', show_shapes=True, show_layer_names=True)\n",
        "\n",
        "# Optionally display the generated model plot\n",
        "from IPython.display import Image\n",
        "display(Image(filename='model_plot.png'))"
      ],
      "metadata": {
        "id": "Q08fMDx9Bz-X",
        "colab": {
          "base_uri": "https://localhost:8080/",
          "height": 533
        },
        "outputId": "64e78ece-1683-4f5e-98d2-458ee01072f8"
      },
      "execution_count": null,
      "outputs": [
        {
          "output_type": "display_data",
          "data": {
            "image/png": "[encoded data removed]",
            "text/plain": [
              "<IPython.core.display.Image object>"
            ]
          },
          "metadata": {}
        }
      ]
    },
    {
      "cell_type": "markdown",
      "source": [
        "**Train the model**\n",
        "- Batch size of 32\n",
        "- 5 training epochs"
      ],
      "metadata": {
        "id": "emVQP2uJmHcf"
      }
    },
    {
      "cell_type": "code",
      "source": [
        "history = model.fit(X, np.array(Y), batch_size=32, epochs=5, verbose=1)"
      ],
      "metadata": {
        "colab": {
          "base_uri": "https://localhost:8080/"
        },
        "id": "cWPn2aJRe74o",
        "outputId": "5f4452d0-5397-4f95-9635-c10609137363"
      },
      "execution_count": null,
      "outputs": [
        {
          "output_type": "stream",
          "name": "stdout",
          "text": [
            "Epoch 1/5\n",
            "526/526 [==============================] - 104s 185ms/step - loss: 0.4406 - accuracy: 0.8807\n",
            "Epoch 2/5\n",
            "526/526 [==============================] - 99s 189ms/step - loss: 0.1498 - accuracy: 0.9503\n",
            "Epoch 3/5\n",
            "526/526 [==============================] - 97s 184ms/step - loss: 0.1021 - accuracy: 0.9656\n",
            "Epoch 4/5\n",
            "526/526 [==============================] - 97s 184ms/step - loss: 0.0827 - accuracy: 0.9719\n",
            "Epoch 5/5\n",
            "526/526 [==============================] - 98s 187ms/step - loss: 0.0711 - accuracy: 0.9759\n"
          ]
        }
      ]
    },
    {
      "cell_type": "markdown",
      "source": [
        "# **Preparing the testing data**"
      ],
      "metadata": {
        "id": "vRZ2gHScK4kU"
      }
    },
    {
      "cell_type": "markdown",
      "source": [
        "**Load Testing Dataset**\n",
        "- uses pandas to read the testing data from the csv file\n",
        "- you will need to change the root to the file for whereever you have stored the train.csv file\n",
        "- changes column names to 'token' and 'tag'\n",
        "- prints off first ten datapoints"
      ],
      "metadata": {
        "id": "xlqL3g_wm3Cb"
      }
    },
    {
      "cell_type": "code",
      "source": [
        "# Load the testing data\n",
        "test_data = pd.read_csv('/content/drive/MyDrive/EE8204/test.csv', names=['Token', 'Tag'])\n",
        "\n",
        "print(test_data.head(10))"
      ],
      "metadata": {
        "colab": {
          "base_uri": "https://localhost:8080/"
        },
        "id": "EgL5kl7nLBW_",
        "outputId": "654346ac-907f-493d-adb5-2ec5c23e3ea9"
      },
      "execution_count": null,
      "outputs": [
        {
          "output_type": "stream",
          "name": "stdout",
          "text": [
            "            Token          Tag\n",
            "0      -DOCSTART-            O\n",
            "1             NaN            O\n",
            "2              of            O\n",
            "3  glucocorticoid    B-protein\n",
            "4       receptors    I-protein\n",
            "5              in            O\n",
            "6     lymphocytes  B-cell_type\n",
            "7             and            O\n",
            "8           their            O\n",
            "9     sensitivity            O\n"
          ]
        }
      ]
    },
    {
      "cell_type": "markdown",
      "source": [
        "**Seperate sentences**\n",
        "- The dataset seperates sentences using a NaN token\n",
        "- This cell adds a new column with the # of the sentence, and then assigns them based on where the NaN tokens have split up the tokens"
      ],
      "metadata": {
        "id": "giD6UbYCm-zp"
      }
    },
    {
      "cell_type": "code",
      "source": [
        "# Replace NaN values with a placeholder if necessary\n",
        "test_data['Token'] = test_data['Token'].fillna('Sentence_End')\n",
        "\n",
        "# Adding a new column for Sentence IDs to aggregate tokens/tags into sentences\n",
        "test_data['Sentence_ID'] = (test_data['Token'] == 'Sentence_End').cumsum()\n",
        "test_data = test_data[test_data['Token'] != 'Sentence_End']\n",
        "\n",
        "# Group by Sentence_ID to reconstruct sentences\n",
        "test_sentences = test_data.groupby('Sentence_ID')['Token'].apply(list).values\n",
        "test_tags = test_data.groupby('Sentence_ID')['Tag'].apply(list).values"
      ],
      "metadata": {
        "id": "tf47w4OaMTx7"
      },
      "execution_count": null,
      "outputs": []
    },
    {
      "cell_type": "markdown",
      "source": [
        "**Padding and Tokenization**\n",
        "- Tokenizing all of the inputs using Tensorflows built in tokenizer\n",
        "- Padding inputs to the max length of 50"
      ],
      "metadata": {
        "id": "BTYXWaSfnF6n"
      }
    },
    {
      "cell_type": "code",
      "source": [
        "# Convert sentences to sequences\n",
        "X_test = word_tokenizer.texts_to_sequences(test_sentences)\n",
        "X_test = pad_sequences(X_test, maxlen=50, padding='post')  # Use the same max_len as in training\n",
        "\n",
        "# Convert tag sequences\n",
        "Y_test = tag_tokenizer.texts_to_sequences(test_tags)\n",
        "Y_test = pad_sequences(Y_test, maxlen=50, padding='post')\n",
        "Y_test = np.array([to_categorical(i, num_classes=num_tags+1) for i in Y_test])\n",
        "\n",
        "# Proper padding\n",
        "X_test = pad_sequences(X_test, maxlen=max_len, padding='post', truncating='post')\n",
        "Y_test_indices = np.argmax(Y_test, axis=-1)"
      ],
      "metadata": {
        "colab": {
          "base_uri": "https://localhost:8080/"
        },
        "id": "hjyWphFYNFzu",
        "outputId": "9aa253ad-4619-4377-b631-e55ef82fd055"
      },
      "execution_count": null,
      "outputs": [
        {
          "output_type": "stream",
          "name": "stdout",
          "text": [
            "Correctly shaped Y_test_indices: (3868, 50)\n"
          ]
        }
      ]
    },
    {
      "cell_type": "markdown",
      "source": [
        "# **Testing**"
      ],
      "metadata": {
        "id": "y-j-CdeAdfKq"
      }
    },
    {
      "cell_type": "markdown",
      "source": [
        "**Producing Tesing Metrics**"
      ],
      "metadata": {
        "id": "Eo4CComNndtW"
      }
    },
    {
      "cell_type": "code",
      "source": [
        "predictions = model.predict(X_test, verbose=1)\n",
        "\n",
        "pred_indices = np.argmax(predictions, axis=-1)\n",
        "\n",
        "idx2tag = tag_tokenizer.index_word\n",
        "flat_pred_tags = [[idx2tag.get(idx, 'O') for idx in sentence] for sentence in pred_indices]\n",
        "\n",
        "Y_test_indices = np.argmax(Y_test, axis=-1)\n",
        "\n",
        "# Converting indices to tags\n",
        "flat_true_tags = [[idx2tag.get(int(idx), 'O') for idx in sentence] for sentence in Y_test_indices]\n",
        "\n",
        "# Flattening the list of tags for classification report\n",
        "flat_true_tags = [tag for sublist in flat_true_tags for tag in sublist]\n",
        "flat_pred_tags = [tag for sublist in flat_pred_tags for tag in sublist]\n",
        "\n",
        "# Generate and print the classification report\n",
        "print(classification_report(flat_true_tags, flat_pred_tags))"
      ],
      "metadata": {
        "id": "W7nvoKI_Req4"
      },
      "execution_count": null,
      "outputs": []
    },
    {
      "cell_type": "markdown",
      "source": [
        "**Produce Accuracy & Loss Plots**"
      ],
      "metadata": {
        "id": "INKJzFfmnQT8"
      }
    },
    {
      "cell_type": "code",
      "source": [
        "def plot_history(history):\n",
        "    plt.figure(figsize=(12, 6))\n",
        "    # Plot training & validation loss values\n",
        "    plt.subplot(1, 2, 1)\n",
        "    plt.plot(history.history['loss'], label='Train Loss')\n",
        "    if 'val_loss' in history.history:\n",
        "        plt.plot(history.history['val_loss'], label='Val Loss')\n",
        "    plt.title('Loss Over Epochs')\n",
        "    plt.ylabel('Loss')\n",
        "    plt.xlabel('Epoch')\n",
        "    plt.legend(loc='upper right')\n",
        "\n",
        "    # Plot training & validation accuracy values\n",
        "    plt.subplot(1, 2, 2)\n",
        "    plt.plot(history.history['accuracy'], label='Train Accuracy')\n",
        "    if 'val_accuracy' in history.history:\n",
        "        plt.plot(history.history['val_accuracy'], label='Val Accuracy')\n",
        "    plt.title('Accuracy Over Epochs')\n",
        "    plt.ylabel('Accuracy')\n",
        "    plt.xlabel('Epoch')\n",
        "    plt.legend(loc='lower right')\n",
        "\n",
        "    plt.tight_layout()\n",
        "    plt.show()\n",
        "\n",
        "plot_history(history)\n"
      ],
      "metadata": {
        "colab": {
          "base_uri": "https://localhost:8080/",
          "height": 513
        },
        "id": "6Y35UQn80XmW",
        "outputId": "42084782-953e-40ce-ae7a-d518421dd61f"
      },
      "execution_count": null,
      "outputs": [
        {
          "output_type": "display_data",
          "data": {
            "text/plain": [
              "<Figure size 1200x600 with 2 Axes>"
            ],
            "image/png": "[encoded data removed]"
          },
          "metadata": {}
        }
      ]
    }
  ]
}